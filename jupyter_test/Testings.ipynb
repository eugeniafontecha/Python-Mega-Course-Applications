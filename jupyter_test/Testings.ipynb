{
 "cells": [
  {
   "cell_type": "markdown",
   "id": "3078fb31",
   "metadata": {},
   "source": [
    "### Atajos\n",
    "\n",
    "**Ctrl+Enter**: corre la celda\n",
    "\n",
    "**Shift+Enter**: corre la celda y se mueve a la siguiente\n",
    "\n",
    "**Alt+Enter**: corre celda y crea una nueva abajo\n",
    "\n",
    "**D,D**: borra la celda (Esc para salir de la celda antes)\n",
    "\n",
    "**H**: lista de shortcuts"
   ]
  },
  {
   "cell_type": "code",
   "execution_count": 9,
   "id": "40eddcd9",
   "metadata": {},
   "outputs": [
    {
     "name": "stdout",
     "output_type": "stream",
     "text": [
      "1\n",
      "2\n"
     ]
    }
   ],
   "source": [
    "print(1)\n",
    "print(2)"
   ]
  }
 ],
 "metadata": {
  "kernelspec": {
   "display_name": "Python 3 (ipykernel)",
   "language": "python",
   "name": "python3"
  },
  "language_info": {
   "codemirror_mode": {
    "name": "ipython",
    "version": 3
   },
   "file_extension": ".py",
   "mimetype": "text/x-python",
   "name": "python",
   "nbconvert_exporter": "python",
   "pygments_lexer": "ipython3",
   "version": "3.9.7"
  }
 },
 "nbformat": 4,
 "nbformat_minor": 5
}
